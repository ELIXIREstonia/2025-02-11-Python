{
  "nbformat": 4,
  "nbformat_minor": 0,
  "metadata": {
    "colab": {
      "provenance": [],
      "collapsed_sections": [
        "vkFFPV2m_1yC",
        "TfDX1P0ZVprH",
        "MXpmDRW4O6Wx",
        "bVr0HN_JL9U5",
        "_f7ISFeQXudE"
      ],
      "toc_visible": true,
      "mount_file_id": "1FUMOJ2JNnuXBkLWVw-PT0g1wRWUumkBL",
      "authorship_tag": "ABX9TyOD19xmDfKvny4o/H8GMwZi",
      "include_colab_link": true
    },
    "kernelspec": {
      "name": "python3",
      "display_name": "Python 3"
    },
    "language_info": {
      "name": "python"
    }
  },
  "cells": [
    {
      "cell_type": "markdown",
      "metadata": {
        "id": "view-in-github",
        "colab_type": "text"
      },
      "source": [
        "<a href=\"https://colab.research.google.com/github/ELIXIREstonia/2024-02-23-Python/blob/main/Python_for_beginners.ipynb\" target=\"_parent\"><img src=\"https://colab.research.google.com/assets/colab-badge.svg\" alt=\"Open In Colab\"/></a>"
      ]
    },
    {
      "cell_type": "markdown",
      "source": [
        "# Welcome to Our Python Programming Course!\n",
        "We're thrilled to have you join us on this exciting journey into the world of programming with Python. Whether you're aiming to become a professional developer, enhance your analytical skills, or simply explore the vast possibilities that programming offers, this course is designed to provide you with a solid foundation in Python and the principles of programmatic thinking.\n",
        "\n",
        "## About Python\n",
        "Python is a high-level, interpreted programming language known for its simplicity, readability, and versatility. Created by Guido van Rossum and first released in 1991, Python has become one of the most popular programming languages in the world. Here's why Python stands out and why we've chosen it for our programming course:\n",
        "\n",
        "### Easy to Learn\n",
        "Python's syntax closely resembles the English language, which makes it an excellent language for beginners. Its clear and straightforward structure allows new programmers to focus on learning programming concepts without getting bogged down by complex syntax rules.\n",
        "\n",
        "### Widely Used\n",
        "Python's versatility makes it a preferred choice across various fields, from web development to data science, machine learning, automation, and beyond. Learning Python opens up a world of opportunities in software development, data analysis, artificial intelligence, and many other cutting-edge domains.\n",
        "\n",
        "### Rich Ecosystem\n",
        "Python boasts a vast and active community that contributes to a rich ecosystem of libraries, frameworks, and tools. This extensive support network enables Python developers to implement powerful solutions and bring ideas to life with fewer lines of code.\n",
        "\n",
        "### Cross-Platform Compatibility\n",
        "Python is cross-platform, meaning Python programs can run on Windows, macOS, Linux, and many other operating systems without requiring any modifications to the code. This makes Python a versatile tool for developing applications that need to operate across different environments.\n",
        "\n",
        "### Emphasized on Readability and Efficiency\n",
        "Python encourages writing clean and readable code, adhering to the \"Zen of Python\" — a collection of 19 guiding principles for writing computer programs (https://peps.python.org/pep-0020/). This emphasis on readability makes Python code easier to maintain and extend, which is crucial for both small projects and large-scale applications.\n",
        "\n",
        "## Why Learn Python?\n",
        "Learning Python not only equips you with the skills to tackle a wide range of programming tasks but also lays a strong foundation for understanding other programming languages. Python's principles of simplicity and readability instill good programming habits that will benefit you throughout your coding journey.\n",
        "\n",
        "As we delve into this course, you'll learn how to think like a programmer, solve problems programmatically, and harness the power of Python to create efficient, effective solutions. We're excited to guide you through this learning adventure, providing the knowledge, tools, and support you need to succeed.\n",
        "\n",
        "Welcome aboard, and let's start coding!"
      ],
      "metadata": {
        "id": "_K3jHW7zBiBM"
      }
    },
    {
      "cell_type": "markdown",
      "source": [
        "## Embracing the Learning Process\n",
        "Learning to program is like learning a new language. It requires practice, patience, and persistence. Here are a few tips to help you along the way:\n",
        "\n",
        "- **Practice Regularly**: Like any skill, programming improves with practice.\n",
        "- **Start Small**: Begin with simple projects and gradually take on more complex problems.\n",
        "- **Embrace Mistakes**: Errors are an opportunity to learn. Use them to deepen your understanding.\n",
        "- **Seek Support**: Don't hesitate to ask for help from the community or find a study group, i.e. https://docs.python.org/3/, ChatGPT, StackOverflow, etc."
      ],
      "metadata": {
        "id": "sfd6Mk02V1rv"
      }
    },
    {
      "cell_type": "markdown",
      "source": [
        "# Understanding Programmatic Thinking\n",
        "Programmatic thinking, or computational thinking, is a fundamental skill for programmers and developers. It involves approaching problems in a way that a computer can interpret and execute. This form of thinking is markedly different from how we communicate tasks to other people due to the precise and explicit instructions required for computers to understand and perform actions.\n",
        "\n",
        "## The Difference in Instructions: People vs. Computers\n",
        "When you tell a person to \"open the door,\" you rely on their existing knowledge and abilities to interpret and execute the request. The person understands the concept of a door, knows how to locate the door handle, and how to physically move the handle to open the door. This single instruction is interpreted based on a shared understanding and context.\n",
        "\n",
        "In contrast, telling a computer to \"open the door\" involves breaking down the task into very specific, detailed instructions that a computer can follow. Computers lack the ability to make assumptions or draw on shared experiences; they require a clear set of commands defined in a way they can process.\n",
        "\n",
        "## Example: Breaking Down the Task for a Computer\n",
        "Let's consider a simplified example of how to break down the task of opening a door into instructions a computer-controlled robotic arm might follow:\n",
        "\n",
        "- **Identify the Door**: The computer needs data on what a door is and how to find one. This might involve sensors or predefined data.\n",
        "- **Locate the Door Handle**: The computer must understand what a handle is and have a method to locate it relative to the door.\n",
        "- **Move Towards the Handle**: The computer calculates a path from its current location to the door handle.\n",
        "- **Grasp the Handle**: The computer controls the robotic arm to close around the handle, applying sufficient pressure to maintain grip but not so much as to damage the handle.\n",
        "- **Turn or Pull the Handle**: The computer determines whether to push, pull, or turn the handle based on the door's mechanism.\n",
        "- **Open the Door**: The computer must apply force in the correct direction to open the door, considering factors like door weight and swing direction.\n",
        "\n",
        "Each step involves numerous sub-steps and considerations, highlighting the level of detail required in programming. Unlike human-to-human interaction, every action, decision, and outcome must be explicitly defined.\n",
        "\n",
        "## The Essence of Programmatic Thinking\n",
        "Programmatic thinking is about more than just writing code; it's about developing the ability to think in sequences, conditions, and operations that a computer can execute. It requires breaking down tasks into the smallest possible actions, anticipating potential issues, and structuring instructions logically and efficiently.\n",
        "\n",
        "This methodical approach to problem-solving not only aids in programming but also enhances critical thinking skills applicable in various aspects of life and work."
      ],
      "metadata": {
        "id": "cFdmG9I996Px"
      }
    },
    {
      "cell_type": "markdown",
      "source": [
        "## Understanding Conditional Logic: A (Un)Real-World Exercise\n",
        "\n",
        "Mom asks Johnny to go to the store: \"Please bring a loaf of bread, and if there is milk, bring two.\"\n",
        "\n",
        "Johnny returns from the store with two loaves of bread. Now, why did this happen?"
      ],
      "metadata": {
        "id": "a7-k-ifs_Xzf"
      }
    },
    {
      "cell_type": "markdown",
      "source": [
        "\n",
        "### Explanation\n",
        "Click below to see"
      ],
      "metadata": {
        "id": "vkFFPV2m_1yC"
      }
    },
    {
      "cell_type": "markdown",
      "source": [
        "The reason Johnny returned with two loaves of bread is a classic example of programmatic thinking versus human communication. Mom's instruction was interpreted literally by Johnny, akin to how a computer follows conditional logic in programming. When he saw that milk was available, he applied the \"bring two\" condition to the bread instead of understanding it was meant for the milk, demonstrating the importance of clear and precise instructions."
      ],
      "metadata": {
        "id": "c4cuF7iu_xZ2"
      }
    },
    {
      "cell_type": "markdown",
      "source": [
        "## Synopsis\n",
        "\n",
        "- **Variables**\n",
        "- **Data Types**\n",
        "- **Loops and Flow Control**\n",
        "- **Writing Functions**\n",
        "- *Writing Classes*\n",
        "- *Exceptions*\n",
        "- *Debugging*"
      ],
      "metadata": {
        "id": "b3IYB5CkIqmB"
      }
    },
    {
      "cell_type": "markdown",
      "source": [
        "# Introduction to Variables\n",
        "\n",
        "\n",
        "- **Definition:** Variables are names that refer to values stored in memory. They allow you to store, retrieve, and manipulate data in your programs.\n",
        "- **Declaration and Assignment:** In Python, variables are created when you first assign them a value. The assignment operator (`=`) is used for this purpose.\n",
        "\n",
        "### Basic Examples\n",
        "#### 1. Assigning Values to Variables"
      ],
      "metadata": {
        "id": "wTZ-7Dk7A-9s"
      }
    },
    {
      "cell_type": "code",
      "source": [
        "# Assigning an integer value\n",
        "age = 30\n",
        "\n",
        "# Assigning a string value\n",
        "name = \"Alice\"\n",
        "\n",
        "# Assigning a floating point value\n",
        "height = 5.9"
      ],
      "metadata": {
        "id": "DienxzVYBUne"
      },
      "execution_count": null,
      "outputs": []
    },
    {
      "cell_type": "markdown",
      "source": [
        "#### 2. Using Variables"
      ],
      "metadata": {
        "id": "SCh6CFbLBXOR"
      }
    },
    {
      "cell_type": "code",
      "source": [
        "# Printing variables\n",
        "print(age)  # Output: 30\n",
        "print(name)  # Output: Alice\n",
        "print(height)  # Output: 5.9\n",
        "\n",
        "# Using variables in calculations\n",
        "next_year_age = age + 1\n",
        "print(next_year_age)  # Output: 31"
      ],
      "metadata": {
        "id": "QjtpNYi-BePD"
      },
      "execution_count": null,
      "outputs": []
    },
    {
      "cell_type": "markdown",
      "source": [
        "#### 3. Updateing Variables"
      ],
      "metadata": {
        "id": "DizImypzBtSe"
      }
    },
    {
      "cell_type": "code",
      "source": [
        "# Updating a variable\n",
        "age = age + 1\n",
        "print(age)  # Output: 31\n",
        "\n",
        "# Incrementing a variable (shortcut)\n",
        "age += 1\n",
        "print(age)  # Output: 32"
      ],
      "metadata": {
        "id": "0hvGJVAWBywU"
      },
      "execution_count": null,
      "outputs": []
    },
    {
      "cell_type": "markdown",
      "source": [
        "# Introduction to Built-in Functions\n",
        "\n",
        "- https://docs.python.org/3/library/functions.html\n",
        "\n",
        "- **Definition:** Built-in functions are pre-defined functions in Python that are available for use without the need to import any module. They perform common and essential tasks, such as input/output operations, type conversions, and mathematical computations.\n",
        "\n",
        "- **Examples:** `print()`, `len()`, `type()`, `int()`, `str()`, and many others.\n",
        "\n",
        "#### Using Built-in Functions\n",
        "\n",
        "1. `print()` - used to output data to the standard output device (screen). i.e. `print(\"Hello, World!\")`.\n",
        "2. `len()` - returns the length (the number of items) of an object. i.e. `len(\"Python\")` returns `6`.\n",
        "3. `type()` - returns type of an object. i.e. `type(123)` returns `<class 'int'>`.\n",
        "4. `int()` and `str()` - used for type conversion. `int()` converts to an integer, and `str()` converts to a string. i.e. `int(\"10\")` returns `10`; `str(10)` returns `\"10\"`.\n",
        "\n",
        "Don't be shy to familiarise yourself with the documentation at https://docs.python.org/3/."
      ],
      "metadata": {
        "id": "Kl9gHwZ0Evsy"
      }
    },
    {
      "cell_type": "markdown",
      "source": [
        "### Formating Output with f-strings\n",
        "\n",
        "Python 3.6 introduced \"f-strings\" (formatted string literals) as a new way to format strings. An f-string is a string literal that is prefixed with 'f' or 'F'. These strings may contain replacement fields, which are expressions delimited by curly braces `{}`. The expressions are replaced with their values.\n",
        "\n",
        "### Advantages of f-strings:\n",
        "They are more readable and concise than previous string formatting methods.\n",
        "They are faster because they are evaluated at runtime rather than being constantly parsed and interpreted.\n",
        "\n",
        "### How to Use f-strings:\n",
        "To create an f-string, prefix the string with the letter `f` or `F` before the opening quotation mark. Include variables or expressions inside curly braces `{}` within the string, and these will be directly evaluated and formatted.\n",
        "\n"
      ],
      "metadata": {
        "id": "6Wtu-uNyRI0Z"
      }
    },
    {
      "cell_type": "code",
      "source": [
        "name = \"Alice\"\n",
        "city = \"London\"\n",
        "\n",
        "# Using f-string to include name and age in the output\n",
        "greeting = f\"Hello, my name is {name} and I live in {city}.\"\n",
        "\n",
        "print(greeting) # Output: \"Hello, my name is Alice and I am 30 years old.\"\n",
        "\n",
        "\n",
        "price = 19.99\n",
        "quantity = 3\n",
        "\n",
        "# Using an expression inside an f-string\n",
        "total = f\"Total: ${price * quantity:.2f}\"\n",
        "\n",
        "print(total) # Output: \"Total: $59.97\""
      ],
      "metadata": {
        "id": "X1OUCRiARpH7"
      },
      "execution_count": null,
      "outputs": []
    },
    {
      "cell_type": "markdown",
      "source": [
        "# Python Variables Concept Test\n",
        "\n",
        "## Multiple Choice Questions\n",
        "\n",
        "1. **What is a variable in Python?**\n",
        "   - A) A fixed value that cannot change.\n",
        "   - B) A type of Python function.\n",
        "   - C) A name that refers to a value stored in memory.\n",
        "   - D) A specific Python library.\n",
        "\n",
        "2. **Which of the following is a valid variable assignment in Python?**\n",
        "   - A) `3x = \"hello\"`\n",
        "   - B) `my-variable = 123`\n",
        "   - C) `greeting_message = \"Good Morning\"`\n",
        "   - D) `\"age\" = 25`\n",
        "\n",
        "3. **Which of the following can be a value assigned to a variable in Python?**\n",
        "   - A) Integer\n",
        "   - B) String\n",
        "   - C) List\n",
        "   - D) All of the above\n",
        "\n",
        "## True/False Statements\n",
        "\n",
        "4. **Variable names in Python are case-sensitive.**\n",
        "   - True / False\n",
        "\n",
        "5. **It is possible to assign multiple variables in one line in Python.**\n",
        "   - True / False\n",
        "\n",
        "6. **A variable in Python can change type after it has been set.**\n",
        "   - True / False\n",
        "\n",
        "## Short Coding Challenge\n",
        "\n",
        "7. **Create a Python script that does the following:**\n",
        "   - Declare a variable `name` with your name as its value.\n",
        "   - Declare a variable `age` with your age as its value.\n",
        "   - Increment the `age` variable by 1.\n",
        "   - Print a message using both variables: \"Hello, my name is \\[name\\], and I am \\[age\\] years old.\"\n"
      ],
      "metadata": {
        "id": "7lgdwSznUzzJ"
      }
    },
    {
      "cell_type": "code",
      "source": [
        "# you can write your code here, or add additional cells as needed.\n",
        "\n"
      ],
      "metadata": {
        "id": "vxYDc_NqPSq6"
      },
      "execution_count": null,
      "outputs": []
    },
    {
      "cell_type": "markdown",
      "source": [
        "### Answers\n",
        "\n",
        "Click below for a solution"
      ],
      "metadata": {
        "id": "TfDX1P0ZVprH"
      }
    },
    {
      "cell_type": "markdown",
      "source": [
        "#### Multiple Choice Questions\n",
        "\n",
        "1. C) A name that refers to a value stored in memory\n",
        "2. C) `greeting_message = \"Good Morning\"`\n",
        "3. D) All of the above\n",
        "\n",
        "#### True/False Statements\n",
        "\n",
        "4. True\n",
        "5. True\n",
        "6. True\n",
        "\n",
        "#### Short Coding Challenge Example Solution\n",
        "\n",
        "```python\n",
        "# Declaring variables\n",
        "name = \"Your Name\"  # Replace \"Your Name\" with your actual name\n",
        "age = 20  # Replace 20 with your actual age\n",
        "\n",
        "# Incrementing age\n",
        "age += 1\n",
        "\n",
        "# Printing the message\n",
        "print(f\"Hello, my name is {name}, and I am {age} years old.\")\n",
        "```"
      ],
      "metadata": {
        "id": "nGJByRhTWwq9"
      }
    },
    {
      "cell_type": "markdown",
      "source": [
        "# Python Data Types\n",
        "\n",
        "Understanding data types in Python is crucial for effectively manipulating data in your programs. Python has a variety of built-in data types, which can be classified into the following categories:\n",
        "\n",
        "## Basic Data Types\n",
        "\n",
        "- **Integers**: Whole numbers, positive or negative, without decimals. Ex: `5`, `-3`.\n",
        "- **Floats**: Numbers with a decimal point or in exponential (E) form. Ex: `3.14`, `-0.001`, `2e2`.\n",
        "- **Booleans**: Represents `True` or `False` values.\n",
        "\n",
        "## Sequence Types\n",
        "\n",
        "- **Strings**: A sequence of Unicode characters. Ex: `\"Hello, World!\"`.\n",
        "- **Lists**: Ordered and changeable collections of items. Ex: `[1, 2.5, 'Python']`.\n",
        "- **Tuples**: Ordered and unchangeable collections of items. Ex: `(1, 2.5, 'Python')`.\n",
        "- **Ranges**: Immutable sequence of numbers and is commonly used for looping a specific number of times in `for` loops.\n",
        "\n",
        "## Mapping Type\n",
        "\n",
        "- **Dictionaries**: Unordered collections of key-value pairs. Ex: `{'name': 'Alice', 'age': 30}`.\n",
        "\n",
        "## Set Types\n",
        "\n",
        "- **Sets**: Unordered and unindexed collections of unique items. Ex: `{1, 2, 3, 'Python'}`.\n",
        "- **Frozen Sets**: Immutable version of a set. Ex: `frozenset([1, 2, 3, 'Python'])`.\n",
        "\n",
        "There are some more types, that are a bit more advanced. For full reference see https://docs.python.org/3.12/library/stdtypes.html\n",
        "\n",
        "## Getting Information about Data Types\n",
        "\n",
        "You can use the `type()` function to determine the data type of an object in Python."
      ],
      "metadata": {
        "id": "GnXxpxsu78n5"
      }
    },
    {
      "cell_type": "code",
      "source": [
        "x = 5\n",
        "print(type(x))  # Output: <class 'int'>"
      ],
      "metadata": {
        "id": "Pb2LbCXk8EPG"
      },
      "execution_count": null,
      "outputs": []
    },
    {
      "cell_type": "markdown",
      "source": [
        "## Converting Between Data Types\n",
        "Python allows you to convert between different data types, provided that a logical conversion is possible."
      ],
      "metadata": {
        "id": "w50uFb6a_SdL"
      }
    },
    {
      "cell_type": "code",
      "source": [
        "# Converting integer to float\n",
        "x = 10\n",
        "print(float(x))  # Output: 10.0\n",
        "\n",
        "# Converting float to integer (this will truncate the decimal part)\n",
        "y = 3.14\n",
        "print(int(y))  # Output: 3\n",
        "\n",
        "# Converting number to string\n",
        "z = 20\n",
        "print(str(z))  # Output: '20'\n",
        "\n",
        "# Converting tuple to list\n",
        "t = (1,2,3)\n",
        "print(list(t)) # Output: [1, 2, 3]\n",
        "\n",
        "# Converting list to set\n",
        "l = [1, 2, 3, 4, 2, 4, 3, 5, 5]\n",
        "print(set(l)) # Output: {1, 2, 3, 4, 5}"
      ],
      "metadata": {
        "id": "0wED8l9i_ZG-"
      },
      "execution_count": null,
      "outputs": []
    },
    {
      "cell_type": "markdown",
      "source": [
        "Understanding these data types and how to manipulate them is foundational for Python programming, enabling you to handle various forms of data effectively.\n",
        "\n",
        "Reference: https://docs.python.org/3.12/library/stdtypes.html"
      ],
      "metadata": {
        "id": "DOLxSe7vAIl9"
      }
    },
    {
      "cell_type": "markdown",
      "source": [
        "# Python Comparisons\n",
        "\n",
        "Comparisons are essential in Python for controlling the flow of programs by allowing the program to make decisions. Python supports several comparison operators, which return Boolean values: `True` or `False`.\n",
        "\n",
        "## Comparison Operators\n",
        "\n",
        "- **Equal to (`==`)**: Checks if the values of two operands are equal.\n",
        "- **Not equal to (`!=`)**: Checks if the values of two operands are not equal.\n",
        "- **Greater than (`>`)**: Checks if the value of the left operand is greater than the value of the right operand.\n",
        "- **Less than (`<`)**: Checks if the value of the left operand is less than the value of the right operand.\n",
        "- **Greater than or equal to (`>=`)**: Checks if the value of the left operand is greater than or equal to the value of the right operand.\n",
        "- **Less than or equal to (`<=`)**: Checks if the value of the left operand is less than or equal to the value of the right operand.\n",
        "\n",
        "## Using Comparison Operators"
      ],
      "metadata": {
        "id": "GLi3rdcBL7Bi"
      }
    },
    {
      "cell_type": "code",
      "source": [
        "a = 10\n",
        "b = 20\n",
        "\n",
        "# Equal to\n",
        "print(a == b)  # Output: False\n",
        "\n",
        "# Not equal to\n",
        "print(a != b)  # Output: True\n",
        "\n",
        "# Greater than\n",
        "print(a > b)  # Output: False\n",
        "\n",
        "# Less than\n",
        "print(a < b)  # Output: True\n",
        "\n",
        "# Greater than or equal to\n",
        "print(a >= 10)  # Output: True\n",
        "\n",
        "# Less than or equal to\n",
        "print(b <= 20)  # Output: True"
      ],
      "metadata": {
        "id": "g8-xsANlMCC6"
      },
      "execution_count": null,
      "outputs": []
    },
    {
      "cell_type": "markdown",
      "source": [
        "## Combining with Logical Operators\n",
        "Python allows combining comparison operators with logical operators (`and`, `or`, `not`) to build complex conditions.\n",
        "\n"
      ],
      "metadata": {
        "id": "5iB320JFMFFH"
      }
    },
    {
      "cell_type": "code",
      "source": [
        "x = 5\n",
        "y = 10\n",
        "\n",
        "# Using 'and' to check if x is greater than 3 and less than 10\n",
        "print(x > 3 and x < 10)  # Output: True; same as print(3 < x < 10)\n",
        "\n",
        "# Using 'or' to check if x is less than 4 or greater than 8\n",
        "print(x < 4 or y > 8)  # Output: True\n",
        "\n",
        "# Using 'not' to reverse the result of a comparison\n",
        "print(not(x > 3 and x < 10))  # Output: False\n",
        "\n"
      ],
      "metadata": {
        "id": "aqgm8af5MMMG"
      },
      "execution_count": null,
      "outputs": []
    },
    {
      "cell_type": "markdown",
      "source": [
        "Understanding and applying comparison operators are fundamental in making decisions in Python programs. They are widely used in control flow statements such as `if` statements, loops (`while`, `for`), and comprehensions."
      ],
      "metadata": {
        "id": "WCQmbiSxMocb"
      }
    },
    {
      "cell_type": "markdown",
      "source": [
        "# Extended Python Comparisons\n",
        "\n",
        "In addition to basic comparison operators, Python offers operators for identity and membership tests. These operators provide powerful ways to compare objects and check if elements belong to a collection.\n",
        "\n",
        "## Additional Comparison Operators\n",
        "\n",
        "- **Identity operators**\n",
        "  - `is`: True if the operands are identical (refer to the same object)\n",
        "  - `is not`: True if the operands are not identical (do not refer to the same object)\n",
        "\n",
        "- **Membership operators**\n",
        "  - `in`: True if the value is found in the sequence\n",
        "  - `not in`: True if the value is not found in the sequence\n",
        "\n",
        "## Using Identity Operators\n",
        "\n",
        "Identity operators compare the memory locations of two objects. They are not about the value equality but whether they are actually the same object."
      ],
      "metadata": {
        "id": "5v_IDMzdM89g"
      }
    },
    {
      "cell_type": "code",
      "source": [
        "a = [1, 2, 3]\n",
        "b = a       # b refers to the same list as a\n",
        "c = a[:]    # c is a copy of a, but points to a different object\n",
        "# the above line is equivalent to `c = a.copy()`\n",
        "\n",
        "# Using 'is'\n",
        "print(a is b)  # Output: True\n",
        "\n",
        "# Using 'is not'\n",
        "print(a is not c)  # Output: True"
      ],
      "metadata": {
        "id": "Z_N7C9cNM-cG"
      },
      "execution_count": null,
      "outputs": []
    },
    {
      "cell_type": "markdown",
      "source": [
        "## Using Membership Operators\n",
        "Membership operators test if a sequence contains a specified value."
      ],
      "metadata": {
        "id": "qdQfje0GNgb7"
      }
    },
    {
      "cell_type": "code",
      "source": [
        "my_list = [1, 2, 3, 4, 5]\n",
        "\n",
        "# Using 'in'\n",
        "print(3 in my_list)  # Output: True\n",
        "\n",
        "# Using 'not in'\n",
        "print(6 not in my_list)  # Output: True"
      ],
      "metadata": {
        "id": "0ML76XZgNi6D"
      },
      "execution_count": null,
      "outputs": []
    },
    {
      "cell_type": "markdown",
      "source": [
        "These operators expand the capabilities of Python comparisons, allowing for more nuanced checks like object identity and element membership. Understanding how to use these operators effectively can greatly enhance the logic and readability of your Python code."
      ],
      "metadata": {
        "id": "8gGCL7BxNlBj"
      }
    },
    {
      "cell_type": "markdown",
      "source": [
        "# Python Data Types and Comparisons Concept Test\n",
        "\n",
        "## Multiple Choice Questions\n",
        "\n",
        "1. **Which data type would you use to store a person's age?**\n",
        "   - A) String\n",
        "   - B) List\n",
        "   - C) Integer\n",
        "   - D) Float\n",
        "\n",
        "2. **What does the `in` operator do?**\n",
        "   - A) Checks if a value is inside a function\n",
        "   - B) Checks if a value exists within an iterable\n",
        "   - C) Increments the value of a variable\n",
        "   - D) Checks the identity of two variables\n",
        "\n",
        "3. **Which of the following is the correct way to check if two variables `a` and `b` refer to the same object in memory?**\n",
        "   - A) `a == b`\n",
        "   - B) `a is b`\n",
        "   - C) `a in b`\n",
        "   - D) `a != b`\n",
        "\n",
        "4. **What is the result of the following expression: `3 in [1, 2, 3]`?**\n",
        "   - A) `True`\n",
        "   - B) `False`\n",
        "   - C) Error\n",
        "   - D) None of the above\n",
        "\n",
        "## True/False Statements\n",
        "\n",
        "5. **Tuples can be modified after their creation.**\n",
        "   - True / False\n",
        "\n",
        "6. **The expression `5 is 5.0` will return True because they have the same value.**\n",
        "   - True / False\n",
        "\n",
        "7. **`'Hello' in 'Hello, World!'` will evaluate to True.**\n",
        "   - True / False\n",
        "\n",
        "8. **`[1, 2, 3] == [1, 2, 3]` checks if the two lists are exactly the same object in memory.**\n",
        "   - True / False\n",
        "\n",
        "## Short Answer Questions\n",
        "\n",
        "9. **What is the difference between `=` and `==` in Python?**\n",
        "\n",
        "10. **Explain the difference between the `is` operator and the `==` operator.**\n",
        "\n",
        "## Coding Challenge\n",
        "\n",
        "11. **Given the list `numbers = [1, 2, 3, 4, 5]`, write a Python expression that checks if `4` is in `numbers`.**\n",
        "\n",
        "12. **Create two variables, `a = 10` and `b = 20`. Write a Python statement that swaps their values without using a temporary variable.**"
      ],
      "metadata": {
        "id": "A3lPnAvEOvsN"
      }
    },
    {
      "cell_type": "code",
      "source": [
        "# you can write your code here, or add additional cells as needed.\n",
        "\n"
      ],
      "metadata": {
        "id": "3oolk4OQPCSF"
      },
      "execution_count": null,
      "outputs": []
    },
    {
      "cell_type": "markdown",
      "source": [
        "### Answers\n",
        "\n",
        "Click below for a solution"
      ],
      "metadata": {
        "id": "MXpmDRW4O6Wx"
      }
    },
    {
      "cell_type": "markdown",
      "source": [
        "#### Multiple Choice Questions\n",
        "\n",
        "1. C) Integer\n",
        "2. B) Checks if a value exists within an iterable\n",
        "3. B) `a is b`\n",
        "4. A) `True`\n",
        "\n",
        "#### True/False Statements\n",
        "\n",
        "5. False (Tuples are immutable)\n",
        "6. False (`is` compares identity, not value, and integers and floats are different types)\n",
        "7. True\n",
        "8. False (`==` checks for value equality, not object identity)\n",
        "\n",
        "#### Short Answer Questions\n",
        "\n",
        "9. **`=` is the assignment operator used to assign a value to a variable, whereas `==` is the equality operator used to compare two values for equality.**\n",
        "10. **The `is` operator checks if two operands refer to the same object in memory (identity), while `==` checks if the values of two operands are equal (equality).**\n",
        "\n",
        "#### Coding Challenge\n",
        "\n",
        "11. **`4 in numbers`**\n",
        "12. **`a, b = b, a`**"
      ],
      "metadata": {
        "id": "z_QMPHdpO7pG"
      }
    },
    {
      "cell_type": "markdown",
      "source": [
        "# Loops and Flow Control in Python\n",
        "\n",
        "Python provides several constructs for controlling the flow of execution in a program. The most common constructs are loops and conditional statements, which allow for iterating over sequences and making decisions based on certain conditions.\n",
        "\n",
        "## Conditional Statements\n",
        "\n",
        "- **`if` Statement**: Used to execute a block of code if a condition is true.\n",
        "- **`elif` Statement**: Short for \"else if\"; used to check multiple conditions after an `if` statement.\n",
        "- **`else` Statement**: Used to execute a block of code if all preceding conditions are false.\n",
        "\n",
        "### Example:"
      ],
      "metadata": {
        "id": "8d-g4FYjQjGr"
      }
    },
    {
      "cell_type": "code",
      "source": [
        "age = 20\n",
        "if age < 18:\n",
        "    print(\"You are a minor.\")\n",
        "elif age >= 18 and age < 65:\n",
        "    print(\"You are an adult.\")\n",
        "else:\n",
        "    print(\"You are a senior.\")"
      ],
      "metadata": {
        "id": "lvbQyxG-Qnn_"
      },
      "execution_count": null,
      "outputs": []
    },
    {
      "cell_type": "markdown",
      "source": [
        "## Loops\n",
        "Python provides two types of loops:\n",
        "\n",
        "- `for` **Loop**: Used for iterating over a sequence (like a list, tuple, dictionary, set, or string).\n",
        "- `while` **Loop**: Repeats as long as a condition is true.\n",
        "\n",
        "### `for` Loop Example:"
      ],
      "metadata": {
        "id": "1RkeISW0QsdA"
      }
    },
    {
      "cell_type": "code",
      "source": [
        "fruits = [\"apple\", \"banana\", \"cherry\"]\n",
        "for fruit in fruits:\n",
        "    print(fruit)"
      ],
      "metadata": {
        "id": "X3Wz7nJxQ-kB"
      },
      "execution_count": null,
      "outputs": []
    },
    {
      "cell_type": "markdown",
      "source": [
        "### `while` Loop Example:"
      ],
      "metadata": {
        "id": "UHVhjlGsQ_Yc"
      }
    },
    {
      "cell_type": "code",
      "source": [
        "count = 5\n",
        "while count > 0:\n",
        "    print(count)\n",
        "    count -= 1"
      ],
      "metadata": {
        "id": "HeLYrevFRErG"
      },
      "execution_count": null,
      "outputs": []
    },
    {
      "cell_type": "markdown",
      "source": [
        "Be cautious with `while` loops; without a proper terminating condition, you can accidentally create an infinite loop, which will continue to execute indefinitely and can cause your program to become unresponsive or crash."
      ],
      "metadata": {
        "id": "63PjKf2NRtpq"
      }
    },
    {
      "cell_type": "markdown",
      "source": [
        "## Loop Control Statements\n",
        "- **break**: Exits the loop.\n",
        "- **continue**: Skips the rest of the code inside the loop for the current iteration and moves to the next iteration.\n",
        "- **pass**: Does nothing; used as a placeholder.\n",
        "\n",
        "### Example:"
      ],
      "metadata": {
        "id": "pUOjXr9fRGqV"
      }
    },
    {
      "cell_type": "code",
      "source": [
        "for num in range(1, 10):\n",
        "    if num == 5:\n",
        "        break  # Exit loop when num is 5\n",
        "    if num % 2 == 0:\n",
        "        continue  # Skip even numbers\n",
        "    print(num)"
      ],
      "metadata": {
        "id": "R_ysdomwRTlQ"
      },
      "execution_count": null,
      "outputs": []
    },
    {
      "cell_type": "markdown",
      "source": [
        "## Nested Loops\n",
        "Loops can be nested inside each other."
      ],
      "metadata": {
        "id": "opJNUvnoRUL0"
      }
    },
    {
      "cell_type": "code",
      "source": [
        "for i in range(1, 4):  # Outer loop\n",
        "    for j in range(1, 3):  # Inner loop\n",
        "        print(f\"i = {i}, j = {j}\")"
      ],
      "metadata": {
        "id": "ibIT0BORRbGp"
      },
      "execution_count": null,
      "outputs": []
    },
    {
      "cell_type": "markdown",
      "source": [
        "Understanding loops and flow control is crucial for writing efficient and effective Python programs. These constructs allow you to handle repetitive tasks, make decisions in your code, and manage the program's execution flow."
      ],
      "metadata": {
        "id": "DEpbNIVkRiD7"
      }
    },
    {
      "cell_type": "markdown",
      "source": [
        "# Python Indentation\n",
        "\n",
        "In Python, indentation is not only a matter of style but a fundamental aspect of the language syntax that defines the structure and flow of control within the code. Proper indentation is crucial for defining the blocks of code that group together statements in control structures such as loops, conditional statements, and function definitions.\n",
        "\n",
        "## Where and Why Indentation is Used\n",
        "\n",
        "### Where\n",
        "Indentation in Python is used in:\n",
        "- Conditional statements (`if`, `elif`, `else`)\n",
        "- Loops (`for`, `while`)\n",
        "- Function and class definitions\n",
        "- With context managers (`with` statement)\n",
        "- In defining blocks of code for try-except blocks\n",
        "\n",
        "### Why\n",
        "Python uses indentation to:\n",
        "- Enhance code readability and maintainability, making it clear and visually structured\n",
        "- Define the beginning and end of control structures and blocks of code without the need for braces (`{}`) as in other languages\n",
        "- Enforce a uniform coding style, contributing to the readability across multiple Python projects\n",
        "\n",
        "## How Indentation Works\n",
        "\n",
        "Python considers a group of consecutive statements at the same indentation level as a block of code. The standard practice is to use four spaces per indentation level. Mixing tabs and spaces in indentation should be avoided, as this can lead to `IndentationError` or unexpected behaviors."
      ],
      "metadata": {
        "id": "oteB4vkPIpwt"
      }
    },
    {
      "cell_type": "markdown",
      "source": [
        "# Writing Functions in Python\n",
        "\n",
        "Functions in Python are blocks of code that are designed to do one specific job. When you want to perform a particular task that you've defined in a function, you call the function responsible for it. This approach is a cornerstone of procedural or process-oriented programming.\n",
        "\n",
        "## How to Write Functions in Python\n",
        "\n",
        "To define a function in Python, you use the `def` keyword, followed by a function name, a set of parentheses `()`, and a colon `:`. The indented block of code following the `:` is run when the function is called.\n",
        "\n",
        "### Example:\n"
      ],
      "metadata": {
        "id": "po8275fp1BgL"
      }
    },
    {
      "cell_type": "code",
      "source": [
        "def greet_user(username):\n",
        "    \"\"\"Display a simple greeting.\"\"\"\n",
        "    print(f\"Hello, {username}!\")"
      ],
      "metadata": {
        "id": "W2p-szB-1Dhg"
      },
      "execution_count": null,
      "outputs": []
    },
    {
      "cell_type": "markdown",
      "source": [
        "To call the function, you would use:"
      ],
      "metadata": {
        "id": "VfRUmAOB1L39"
      }
    },
    {
      "cell_type": "code",
      "source": [
        "greet_user('Alice')"
      ],
      "metadata": {
        "id": "gT-b6Y311O_j"
      },
      "execution_count": null,
      "outputs": []
    },
    {
      "cell_type": "markdown",
      "source": [
        "### Parameters and Arguments\n",
        "- **Parameters** are variables that an argument is stored in when a function is called.\n",
        "- **Arguments** are the values passed into the function's parameters.\n",
        "\n",
        "### Return Values\n",
        "To let a function return a value, use the `return` statement:"
      ],
      "metadata": {
        "id": "NFMX739r1Qte"
      }
    },
    {
      "cell_type": "code",
      "source": [
        "def add_numbers(x, y):\n",
        "    return x + y\n",
        "\n",
        "\n",
        "# You can then store the result in a variable:\n",
        "result = add_numbers(3, 5)\n",
        "print(result)  # Output: 8"
      ],
      "metadata": {
        "id": "AcFiz4gV1ff5"
      },
      "execution_count": null,
      "outputs": []
    },
    {
      "cell_type": "markdown",
      "source": [
        "## Scope and Indentation\n",
        "While indentation in Python primarily controls the flow and grouping of statements, it also implicitly affects the scope of variables in the context of functions and classes.\n",
        "\n",
        "- **Global Scope**: Variables defined at the top level of a module or outside of any function are in the global scope.\n",
        "- **Local Scope**: Variables defined within a function are in the local scope of that function and are not accessible outside it."
      ],
      "metadata": {
        "id": "gx-APxrgJceZ"
      }
    },
    {
      "cell_type": "code",
      "source": [
        "x = \"global\"  # Global scope\n",
        "\n",
        "def function_scope():\n",
        "    y = \"local\"  # Local scope\n",
        "    print(x)  # Accessible: prints 'global'\n",
        "    print(y)  # Accessible: prints 'local'\n",
        "\n",
        "function_scope()\n",
        "print(x)  # Accessible: prints 'global'\n",
        "#print(y)  # Error: 'y' is not accessible here; it was defined in the local scope of function_scope"
      ],
      "metadata": {
        "id": "8jV1uBLRI0LL"
      },
      "execution_count": null,
      "outputs": []
    },
    {
      "cell_type": "markdown",
      "source": [
        "In this example, x is in the global scope and accessible anywhere in the module, whereas y is defined in the local scope of function_scope and is not accessible outside of it.\n",
        "\n",
        "## Summary\n",
        "Indentation in Python is a syntactic requirement that directly influences the readability and structure of Python code. It plays a crucial role in defining code blocks and indirectly affects the scope of variables, emphasizing the importance of understanding and applying proper indentation practices in Python programming."
      ],
      "metadata": {
        "id": "KVU06hSYJIZm"
      }
    },
    {
      "cell_type": "markdown",
      "source": [
        "## Procedural (Process-Oriented) Programming\n",
        "Procedural programming is a programming paradigm based on the concept of calling procedures. Procedures, known as functions or subroutines in Python, are a set of statements that perform a task.\n",
        "\n",
        "- **Focus**: It focuses on breaking down a programming task into a collection of variables, data structures, and subroutines.\n",
        "- **Execution**: The program is typically executed from the top down, starting at the main function (if defined), and procedures are called as needed to perform specific tasks.\n",
        "- **Advantages**: This paradigm is particularly useful for linear and straightforward processes and allows for easy debugging and testing since the flow of the program is clear and sequential.\n",
        "- **Use Cases**: It's well-suited for tasks that can be completed with a simple series of steps, such as data processing, calculations, and more straightforward algorithms.\n",
        "\n",
        "Procedural programming in Python encourages the use of **reusable** code blocks (functions) and can lead to more organized and manageable code, especially for beginners or in scenarios where *object-oriented* programming might be an overkill."
      ],
      "metadata": {
        "id": "m2MgoXDF2J1W"
      }
    },
    {
      "cell_type": "code",
      "source": [
        "# Function to calculate age based on the year of birth\n",
        "def calculate_age(year_of_birth):\n",
        "    current_year = 2023  # Assuming the current year is 2023\n",
        "    age = current_year - year_of_birth\n",
        "    return age\n",
        "\n",
        "# Function to check if the user is of legal age (18+)\n",
        "def is_legal_age(age):\n",
        "    return age >= 18\n",
        "\n",
        "# Function to greet the user based on legal age\n",
        "def greet_user(name, is_legal):\n",
        "    if is_legal:\n",
        "        return f\"Welcome, {name}! You are of legal age.\"\n",
        "    else:\n",
        "        return f\"Hello, {name}! You are not of legal age yet.\"\n",
        "\n",
        "# Function to summarize the user information\n",
        "def summarize_user(name, year_of_birth):\n",
        "    age = calculate_age(year_of_birth)\n",
        "    legal = is_legal_age(age)\n",
        "    greeting = greet_user(name, legal)\n",
        "    print(f\"{greeting} You are {age} years old.\")\n",
        "\n",
        "# Main workflow\n",
        "def main():\n",
        "    user_name = \"Alice\"\n",
        "    birth_year = 2005\n",
        "    summarize_user(user_name, birth_year)\n",
        "\n",
        "# Calling the main function to execute the program\n",
        "main()"
      ],
      "metadata": {
        "id": "Czlit7Y02Mtv"
      },
      "execution_count": null,
      "outputs": []
    },
    {
      "cell_type": "markdown",
      "source": [
        "# Python Loops, Flow Control, and Functions Concept Test\n",
        "\n",
        "## Multiple Choice Questions\n",
        "\n",
        "1. **What does the `break` statement do in a loop?**\n",
        "   - A) Pauses the execution of the loop\n",
        "   - B) Stops the loop and exits it immediately\n",
        "   - C) Skips the current iteration and continues with the next one\n",
        "   - D) None of the above\n",
        "\n",
        "2. **Which loop is typically used when the number of iterations is known?**\n",
        "   - A) `while` loop\n",
        "   - B) `for` loop\n",
        "   - C) Both A and B\n",
        "   - D) Neither A nor B\n",
        "\n",
        "3. **How do you define a function in Python?**\n",
        "   - A) `function myFunc():`\n",
        "   - B) `def myFunc():`\n",
        "   - C) `create myFunc():`\n",
        "   - D) `function: myFunc()`\n",
        "\n",
        "4. **What will `range(1, 5)` generate?**\n",
        "   - A) A list of numbers from 1 to 5\n",
        "   - B) A list of numbers from 1 to 4\n",
        "   - C) A sequence of numbers from 1 to 5, excluding 5\n",
        "   - D) A sequence of numbers from 1 to 4, including 4\n",
        "\n",
        "## True/False Statements\n",
        "\n",
        "5. **A `for` loop can iterate over any iterable object in Python.**\n",
        "   - True / False\n",
        "\n",
        "6. **The `else` statement can be used with loops in Python.**\n",
        "   - True / False\n",
        "\n",
        "7. **Functions in Python can only return one value.**\n",
        "   - True / False\n",
        "\n",
        "8. **The `continue` statement in a loop will stop the execution of the loop and exit.**\n",
        "   - True / False\n",
        "\n",
        "## Short Coding Challenge\n",
        "\n",
        "9. **Write a Python function named `sum_even_numbers` that takes a list of integers and returns the sum of only the even numbers.**"
      ],
      "metadata": {
        "id": "MOhZgTy3LMGo"
      }
    },
    {
      "cell_type": "code",
      "source": [
        "# you can write your code here, or add additional cells as needed.\n",
        "\n"
      ],
      "metadata": {
        "id": "-jhijY2kL50y"
      },
      "execution_count": null,
      "outputs": []
    },
    {
      "cell_type": "markdown",
      "source": [
        "### Answers\n",
        "\n",
        "Click below for a solution"
      ],
      "metadata": {
        "id": "bVr0HN_JL9U5"
      }
    },
    {
      "cell_type": "markdown",
      "source": [
        "#### Multiple Choice Questions\n",
        "\n",
        "1. B) Stops the loop and exits it immediately\n",
        "2. B) `for` loop\n",
        "3. B) `def myFunc():`\n",
        "4. C) A sequence of numbers from 1 to 5, excluding 5\n",
        "\n",
        "#### True/False Statements\n",
        "\n",
        "5. True\n",
        "6. True\n",
        "7. False (Functions can return multiple values as a tuple)\n",
        "8. False (`continue` skips to the next iteration of the loop)\n",
        "\n",
        "#### Short Coding Challenge Example Solution"
      ],
      "metadata": {
        "id": "csqnDNhqMCVc"
      }
    },
    {
      "cell_type": "code",
      "source": [
        "def sum_even_numbers(numbers):\n",
        "    sum = 0\n",
        "    for num in numbers:\n",
        "        if num % 2 == 0:\n",
        "            sum += num\n",
        "    return sum\n",
        "\n",
        "# Example usage\n",
        "numbers_list = [1, 2, 3, 4, 5, 6]\n",
        "print(sum_even_numbers(numbers_list))"
      ],
      "metadata": {
        "id": "tYMaU5XkMNML"
      },
      "execution_count": null,
      "outputs": []
    },
    {
      "cell_type": "markdown",
      "source": [
        "# Working with Files and Reading Lines from a File in Python\n",
        "\n",
        "Working with files is a common task in programming, and Python provides a simple yet powerful way to handle files efficiently and safely. The `with` statement ensures that the file is properly closed after its suite finishes, even if an exception is raised. This method is preferable to using file objects directly because it provides clear syntax and avoids common pitfalls, such as forgetting to close the file.\n",
        "\n",
        "## Using the `with` Statement to Open Files\n",
        "\n",
        "The `with` statement simplifies exception handling by encapsulating common preparation and cleanup tasks in so-called context managers. For file operations, this means opening a file and ensuring it gets closed.\n",
        "\n",
        "### Example:\n"
      ],
      "metadata": {
        "id": "4mJ1V7OGU08i"
      }
    },
    {
      "cell_type": "code",
      "source": [
        "with open('drive/MyDrive/example.txt', 'r') as file:\n",
        "    content = file.read()\n",
        "    print(content)\n",
        "\n",
        "print('\\n  ---------------------------------')\n",
        "print(' | Now again, but with `readlines` |')\n",
        "print('  ---------------------------------\\n')\n",
        "\n",
        "with open('drive/MyDrive/example.txt', 'r') as file:\n",
        "    lines = file.readlines()\n",
        "    for line in lines:\n",
        "        print(line.strip())  # Using strip() to remove the newline character"
      ],
      "metadata": {
        "id": "41t500XUVSRk"
      },
      "execution_count": null,
      "outputs": []
    },
    {
      "cell_type": "markdown",
      "source": [
        "The `readlines()` function reads all the lines in a file into a list. Each element of the list represents a single line of the file, including the newline character (`\\n`) at the end of each line.\n",
        "\n",
        "This method is particularly useful when you need to process each line of a file individually, such as parsing data or performing operations on each line.\n",
        "\n",
        "## Summary\n",
        "- The `with` statement provides a robust and clean way to handle file opening and closing, automatically managing file resources.\n",
        "- The `readlines()` function reads the content of a file line by line into a list, making it easy to work with each line individually."
      ],
      "metadata": {
        "id": "t8GlSnjeVi3I"
      }
    },
    {
      "cell_type": "markdown",
      "source": [
        "# Writing to Files in Python\n",
        "\n",
        "Writing to files is a common task in many programming projects, from logging data to saving output for later use. Python simplifies file writing operations with built-in functions, making it both straightforward and powerful to create and modify files.\n",
        "\n",
        "## Using the `with` Statement for Writing Files\n",
        "\n",
        "The `with` statement ensures that the file is properly closed after its suite finishes, even if an exception is raised during the process. This approach is recommended for both reading from and writing to files due to its efficiency and simplicity.\n",
        "\n",
        "### Writing Text to a File\n",
        "\n",
        "To write text to a file in Python, you can use the `open()` function with mode `'w'` for writing. If the file does not exist, it will be created. If it does exist, it will be overwritten. Also check documentation on [`print()`](https://docs.python.org/3/library/functions.html#print)\n"
      ],
      "metadata": {
        "id": "cPXO6ZF3ysMx"
      }
    },
    {
      "cell_type": "code",
      "source": [
        "with open('output.txt', 'w') as fh: #fh is short of 'file handle'\n",
        "    print('Hello, Python!', file=fh)"
      ],
      "metadata": {
        "id": "mpRtG63oy1LQ"
      },
      "execution_count": null,
      "outputs": []
    },
    {
      "cell_type": "markdown",
      "source": [
        "This code snippet opens (and creates if necessary) output.txt, writes the string `'Hello, Python!'` to it, and then automatically closes the file.\n",
        "\n",
        "### Appending Text to an Existing File\n",
        "If you want to add text to an existing file without overwriting its content, use the `'a'` mode instead of `'w'`."
      ],
      "metadata": {
        "id": "SLY8NnmVy3kc"
      }
    },
    {
      "cell_type": "code",
      "source": [
        "my_new_lines = ['Few', 'new', 'lines']\n",
        "\n",
        "with open('output.txt', 'a') as fh:\n",
        "    for line in my_new_lines:\n",
        "      print(line, file=fh)"
      ],
      "metadata": {
        "id": "dS1UQgE4zdMQ"
      },
      "execution_count": null,
      "outputs": []
    },
    {
      "cell_type": "markdown",
      "source": [
        "This will add `'\\nAppending a new line.'` to the end of output.txt, preserving its existing content.\n",
        "\n",
        "## Summary\n",
        "Writing to files in Python is an essential skill, enabling the storage of output data, logging, and data exchange. By using the `with` statement, Python makes file writing operations both safe and straightforward, ensuring that resources are efficiently managed and that files are properly closed after writing, even in the case of errors. This approach to file handling enhances code readability and resource management, making it a best practice for Python programming."
      ],
      "metadata": {
        "id": "MT3Vu85Pztga"
      }
    },
    {
      "cell_type": "markdown",
      "source": [
        "## Working with Libraries in Python\n",
        "In Python, libraries are collections of reusable modules and packages that provide additional functionality to your Python programs beyond what is available in the standard language. These libraries can significantly reduce development time by offering pre-built functionalities for a wide range of applications, from web development and data visualization to machine learning and scientific computing.\n",
        "\n",
        "### Standard Libraries\n",
        "The Python Standard Library is a powerful asset that comes bundled with Python. It includes modules that provide access to system functionality, file I/O operations, string processing, network communication, and much more. Since the Standard Library is part of every Python installation, you can use these functionalities without needing to install anything extra. It's designed to be cross-platform and works the same way across different operating systems.\n",
        "\n",
        "### External Libraries\n",
        "External libraries, on the other hand, are not included with the default Python installation and need to be installed separately using tools like pip, Python's package installer. These libraries are developed and maintained by the global Python community and are hosted on platforms such as the Python Package Index ([PyPI](https://pypi.org/)). External libraries can extend Python's capabilities even further, allowing developers to implement complex functionalities and algorithms without having to code them from scratch."
      ],
      "metadata": {
        "id": "8I4DL5dpEuaq"
      }
    },
    {
      "cell_type": "code",
      "source": [
        "import os\n",
        "import shutil\n",
        "\n",
        "def organize_directory(directory_path):\n",
        "    # List all files in the directory\n",
        "    files = os.listdir(directory_path)\n",
        "\n",
        "    for file in files:\n",
        "        # Ignore directories\n",
        "        if os.path.isfile(os.path.join(directory_path, file)):\n",
        "            # Separate file name and extension\n",
        "            _, extension = os.path.splitext(file)\n",
        "            if extension:  # Check if file has an extension\n",
        "                extension = extension[1:]  # Remove dot from extension\n",
        "                # Define the path for the extension directory\n",
        "                extension_dir = os.path.join(directory_path, extension)\n",
        "                # Check if the extension directory exists\n",
        "                if not os.path.exists(extension_dir):\n",
        "                    os.makedirs(extension_dir)  # Create the directory if it doesn't exist\n",
        "                # Move the file into its extension directory\n",
        "                shutil.move(os.path.join(directory_path, file), extension_dir)\n",
        "\n",
        "# Example usage\n",
        "# organize_directory('/path/to/your/directory')"
      ],
      "metadata": {
        "id": "SH9unXLmFz3L"
      },
      "execution_count": null,
      "outputs": []
    },
    {
      "cell_type": "markdown",
      "source": [
        "## Good Practices in Error Handling and Debugging\n",
        "Error handling and debugging are critical skills in software development, allowing you to build resilient programs and efficiently diagnose issues. This section outlines best practices for managing errors and debugging code in Python.\n",
        "\n",
        "### Error Handling\n",
        "Python uses exceptions to manage errors that arise during program execution. Properly handling these exceptions can prevent your program from crashing and provide meaningful error messages to users or developers.\n",
        "\n",
        "#### Use Try-Except Blocks\n",
        "Encapsulate code that might raise an exception in a try block, and catch exceptions using except blocks.\n",
        "\n",
        "```python\n",
        "try:\n",
        "    # Code that might raise an exception\n",
        "except SomeException:\n",
        "    # Handle the exception\n",
        "```\n",
        "\n",
        "#### Catch Specific Exceptions\n",
        "Always catch specific exceptions rather than using a bare except: clause. Catching everything can obscure real errors and make debugging more difficult.\n",
        "\n",
        "```python\n",
        "try:\n",
        "    # Risky operation\n",
        "except ValueError:\n",
        "    # Handle specific exception\n",
        "except TypeError:\n",
        "    # Handle another specific exception\n",
        "```\n",
        "\n",
        "#### Clean Resources with Finally\n",
        "Use the finally block to ensure resources are released or cleaned up, regardless of whether an exception occurred.\n",
        "\n",
        "```python\n",
        "try:\n",
        "    # Open a file or acquire a resource\n",
        "except IOError:\n",
        "    # Handle file I/O errors\n",
        "finally:\n",
        "    # Close the file or release the resource\n",
        "```\n",
        "\n",
        "### Debugging Tips\n",
        "Debugging is the process of finding and fixing errors or bugs in your code. Here are some strategies to effectively debug Python code:\n",
        "\n",
        "#### Read Error Messages\n",
        "Python's error messages and stack traces provide valuable information about the nature and location of errors. Take the time to read and understand them; they often point directly to the source of the problem.\n",
        "\n",
        "#### Print Statements\n",
        "Use `print()` statements to display the values of variables at different points in your program to understand the flow of execution and the state of your program.\n",
        "\n",
        "#### Use a Debugger\n",
        "Leverage Python's built-in debugger, pdb, to step through your code, inspect variables, and execute code line by line.\n",
        "\n",
        "```bash\n",
        "python -m pdb your_script.py\n",
        "```\n",
        "\n",
        "#### Keep Code Version-Controlled\n",
        "Use version control systems like Git to manage changes to your codebase. This allows you to track changes, revert to previous states, and isolate when bugs were introduced.\n",
        "\n",
        "#### Write Tests\n",
        "Develop a habit of writing tests for your code. Unit tests can help you identify bugs early and ensure that individual parts of your program work as expected."
      ],
      "metadata": {
        "id": "Nr5-FI_eL6TD"
      }
    },
    {
      "cell_type": "markdown",
      "source": [
        "# Files, Libraries, Debugging, and Error Handling in Python Concept Test\n",
        "\n",
        "This concept test aims to evaluate your understanding of essential Python programming concepts, including file operations, leveraging libraries, and implementing debugging and error handling strategies.\n",
        "\n",
        "## Multiple Choice Questions\n",
        "1. What function would you use to read all lines of a text file into a list in Python?\n",
        "  - A) `open().read()`\n",
        "  - B) `open().readlines()`\n",
        "  - C) `open().readline()`\n",
        "  - D) `open().readall()`\n",
        "\n",
        "2. Which of the following is the correct way to ensure a file is properly closed after its operations are completed?\n",
        "  - A) `file = open('data.txt', 'r')`\n",
        "  - B) `file.close()`\n",
        "  - C) `with open('data.txt', 'r') as file:`\n",
        "  - D) `file.open('data.txt', 'r')`\n",
        "\n",
        "3. When installing an external library in Python, which tool is commonly used?\n",
        "  - A) npm\n",
        "  - B) pip\n",
        "  - C) brew\n",
        "  - D) apt-get\n",
        "\n",
        "4. Which Python keyword is used for error handling?\n",
        "  - A) `error`\n",
        "  - B) `except`\n",
        "  - C) `fault`\n",
        "  - D) `handle`\n",
        "\n",
        "5. What is the purpose of the `pdb` module in Python?\n",
        "  - A) Performance debugging\n",
        "  - B) Python database operations\n",
        "  - C) Python decompilation\n",
        "  - D) Python debugging\n",
        "\n",
        "## True/False Statements\n",
        "\n",
        "6. Python automatically closes a file opened with the `open()` function without using a with statement.\n",
        "  - True / False\n",
        "\n",
        "7. The `try` block is used to catch and handle exceptions in Python.\n",
        "  - True / False\n",
        "\n",
        "8. External libraries need to be installed before they can be imported and used in your Python scripts.\n",
        "  - True / False\n",
        "\n",
        "9. The `finally` block in a `try-except` statement is executed only if no exceptions were raised.\n",
        "  - True / False\n",
        "\n",
        "## Coding Exercises\n",
        "\n",
        "Write a Python script that opens a file named example.txt, writes \"Hello, Python!\" to it, and ensures that the file is properly closed.\n",
        "\n",
        "Implement a simple error handling mechanism for a function that divides two numbers, which catches division by zero errors and prints a custom error message (Looking the documentation for possible built-in error types might be good idea)."
      ],
      "metadata": {
        "id": "R325Xsr2WZLd"
      }
    },
    {
      "cell_type": "markdown",
      "source": [
        "### Answers\n",
        "\n",
        "Click below for a solution"
      ],
      "metadata": {
        "id": "_f7ISFeQXudE"
      }
    },
    {
      "cell_type": "markdown",
      "source": [
        "####  Multiple Choice Questions\n",
        "1. B) `open().readlines()`\n",
        "2. C) `with open('data.txt', 'r') as file:`\n",
        "3. B) pip\n",
        "4. B) `except`\n",
        "5. D) Python debugging\n",
        "\n",
        "#### True/False Statements\n",
        "6. False\n",
        "7. False (The `try` block is where you put the code that might raise an exception. It's the `except` block that catches and handles it.)\n",
        "8. True\n",
        "9. False (The `finally` block is executed regardless of whether an exception was raised or not.)"
      ],
      "metadata": {
        "id": "3DaV9i5cX2_R"
      }
    },
    {
      "cell_type": "code",
      "source": [
        "# writing the file\n",
        "\n",
        "with open('example.txt', 'w') as file:\n",
        "    file.write(\"Hello, Python!\")\n",
        "\n",
        "# division with error handling\n",
        "def safe_divide(a, b):\n",
        "    try:\n",
        "        return a / b\n",
        "    except ZeroDivisionError:\n",
        "        print(\"Error: Cannot divide by zero.\")\n",
        "\n",
        "print(safe_divide(10, 0))"
      ],
      "metadata": {
        "id": "CD55h8iIYl4z"
      },
      "execution_count": null,
      "outputs": []
    },
    {
      "cell_type": "markdown",
      "source": [
        "# Using Classes in Python: An Introduction to OOP\n",
        "\n",
        "Object-Oriented Programming (OOP) is a programming paradigm that uses \"objects\" to represent data and methods. Python supports OOP with its versatile class mechanism, allowing for elegant and powerful code structures.\n",
        "\n",
        "## Basic Concepts of OOP\n",
        "\n",
        "- **Class**: A blueprint for creating objects. Classes encapsulate data for the object and methods to manipulate that data.\n",
        "- **Object**: An instance of a class. Each object can have unique attributes and behavior as defined by its class.\n",
        "- **Inheritance**: Allows a class to inherit attributes and methods from another class.\n",
        "- **Encapsulation**: Restricts access to methods and variables to prevent data from direct modification (public vs. private).\n",
        "- **Polymorphism**: Allows for methods to do different things based on the object it is acting upon.\n",
        "\n",
        "## Defining a Class in Python\n",
        "\n",
        "To define a class in Python, use the `class` keyword:\n"
      ],
      "metadata": {
        "id": "xUpCIS-tbbts"
      }
    },
    {
      "cell_type": "code",
      "source": [
        "class MyClass:\n",
        "    x = 5\n",
        "\n",
        "# You can create an instance of a class by assigning the class to a variable:\n",
        "p1 = MyClass()\n",
        "print(p1.x)"
      ],
      "metadata": {
        "id": "iyWZwnmWbmZo"
      },
      "execution_count": null,
      "outputs": []
    },
    {
      "cell_type": "markdown",
      "source": [
        "## Example: Nested Classes - Point and Line\n",
        "In this example, we'll define a `Point` class and a `Line` class, where `Line` will use two instances of `Point` to represent the start and end points of the line.\n",
        "\n",
        "### Defining the Classes\n"
      ],
      "metadata": {
        "id": "nlzYqivjbzbc"
      }
    },
    {
      "cell_type": "code",
      "source": [
        "class Point:\n",
        "    def __init__(self, x=0, y=0):\n",
        "        self.x = x\n",
        "        self.y = y\n",
        "\n",
        "    def __str__(self):\n",
        "        return f\"({self.x}, {self.y})\"\n",
        "\n",
        "    def dist(self, p):\n",
        "        return ((self.x - p.x) ** 2 + (self.y - p.y) ** 2) ** 0.5\n",
        "\n",
        "class Line:\n",
        "    def __init__(self, start_point, end_point):\n",
        "        self.start = start_point\n",
        "        self.end = end_point\n",
        "\n",
        "    def __str__(self):\n",
        "        return f\"Line({self.start} to {self.end})\"\n",
        "\n",
        "    def length(self):\n",
        "        return self.start.dist(self.end)\n"
      ],
      "metadata": {
        "id": "Zb4LTkwQcGyF"
      },
      "execution_count": null,
      "outputs": []
    },
    {
      "cell_type": "markdown",
      "source": [
        "### Using the Classes"
      ],
      "metadata": {
        "id": "_3K3cXFScRKV"
      }
    },
    {
      "cell_type": "code",
      "source": [
        "# Creating points\n",
        "p1 = Point(1, 2)\n",
        "p2 = Point(4, 6)\n",
        "\n",
        "# Creating a line with p1 as the start point and p2 as the end point\n",
        "l = Line(p1, p2)\n",
        "\n",
        "print(l)  # Output: Line((1, 2) to (4, 6))\n",
        "print(f\"Length of the line: {l.length()}\")  # Calculates the length of the vector"
      ],
      "metadata": {
        "id": "Tcvc-CmhcTqk"
      },
      "execution_count": null,
      "outputs": []
    },
    {
      "cell_type": "markdown",
      "source": [
        "## Exercise: Implementing a Rectangle Class Using Point Objects\n",
        "\n",
        "### Objective\n",
        "Your task is to create a Python class named `Rectangle` that models a rectangle using two, opposite corner, points. This exercise will help you practice object-oriented programming concepts, specifically working with classes, objects, and methods in Python. You'll also reinforce your understanding of geometry and coordinate systems.\n",
        "\n",
        "- Define the Rectangle class with an `__init__` method that takes two `Point` objects as parameters for the two opposite corners.\n",
        "- Implement the `width()`, `height()`, and `area()` methods to compute the rectangle's width, height, and area, respectively. Remember that width is the difference between the x-coordinates of the left and right points, while height is the difference between the y-coordinates of the top and bottom points."
      ],
      "metadata": {
        "id": "aio3mr2eM7w1"
      }
    },
    {
      "cell_type": "code",
      "source": [
        "# you can write your code here, or add additional cells as needed.\n",
        "\n"
      ],
      "metadata": {
        "id": "4sJt_EtPSwqr"
      },
      "execution_count": null,
      "outputs": []
    },
    {
      "cell_type": "markdown",
      "source": [
        "You can do the same thing with only using functions. POP approach"
      ],
      "metadata": {
        "id": "rwEubTUaS4Pa"
      }
    },
    {
      "cell_type": "code",
      "source": [
        "# you can write your code here, or add additional cells as needed.\n",
        "\n",
        "p1 = tuple(1,4)\n",
        "p2 = tuple(5,10)"
      ],
      "metadata": {
        "id": "n8N_VFT4TDdz"
      },
      "execution_count": null,
      "outputs": []
    },
    {
      "cell_type": "markdown",
      "source": [
        "## Summary\n",
        "OOP in Python allows developers to create structured software that is robust and reusable. By defining classes that represent real-world things and situations, programmers can create objects that interact in a clear and concise way. Nested classes, like the `Point` and `Line` example, demonstrate how classes can be used within other classes to build complex data structures.\n"
      ],
      "metadata": {
        "id": "MHM6o0CWcXHm"
      }
    },
    {
      "cell_type": "markdown",
      "source": [
        "## Writing Code in Jupyter Notebooks (this document)\n",
        "In Jupyter Notebooks, you write and execute your Python code in interactive cells. Each cell can be run individually, allowing for immediate feedback and an interactive coding experience. Notebooks are excellent for exploratory data analysis, visualization, and step-by-step tutorials.\n",
        "\n",
        "## Writing a Python Script\n",
        "When you're ready to move your code to a script that can be run from the command line, you'll create a `.py` file. This file contains your Python code as plain text, organized in the order you want it to be executed.\n",
        "\n",
        "- Create a `.py` File: Open your text editor or IDE of choice and create a new file with a `.py` extension, for example, `script.py`.\n",
        "- Transfer Your Code: Copy the Python code from your Jupyter Notebook into this file. Unlike in a notebook, there won't be interactive cells, so make sure your code is organized logically from top to bottom.\n",
        "- Adjust Your Code (if necessary): If your notebook includes interactive elements (like input prompts) or relies on the execution order of cells, adjust your code accordingly to ensure it runs smoothly as a script.\n",
        "\n",
        "### Running the Script from the Command Line\n",
        "To execute your Python script from the command line, follow these steps:\n",
        "\n",
        "- Open a Terminal or Command Prompt: Navigate to the folder containing your `.py` file.\n",
        "- Run Your Script: Execute the script by typing python script.py (replace `script.py` with the name of your script file) and press Enter.\n",
        "\n",
        "#### Example Command\n",
        "```bash\n",
        "python script.py\n",
        "```\n",
        "\n",
        "This command tells Python to interpret your script file and execute the code it contains. Make sure you have Python installed on your system and accessible from the command line. The version of Python (e.g., Python 2 vs. Python 3) and the path may vary based on your installation and environment.\n",
        "\n",
        "## Conclusion\n",
        "Transitioning from a Jupyter Notebook to a standalone Python script is a valuable skill, especially for deploying projects, automating tasks, or developing software. While Jupyter Notebooks offer a fantastic interactive environment for development and teaching, Python scripts are more suited for executing complete programs and automating workflows from the command line."
      ],
      "metadata": {
        "id": "o4rZ7Sh0-38-"
      }
    }
  ]
}